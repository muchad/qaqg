{
  "nbformat": 4,
  "nbformat_minor": 0,
  "metadata": {
    "colab": {
      "provenance": [],
      "collapsed_sections": [],
      "authorship_tag": "ABX9TyOXoKHSi/IIMLvpvhjcc0QL",
      "include_colab_link": true
    },
    "kernelspec": {
      "name": "python3",
      "display_name": "Python 3"
    },
    "language_info": {
      "name": "python"
    }
  },
  "cells": [
    {
      "cell_type": "markdown",
      "metadata": {
        "id": "view-in-github",
        "colab_type": "text"
      },
      "source": [
        "<a href=\"https://colab.research.google.com/github/muchad/qaqg/blob/main/idT5_Question_Answering.ipynb\" target=\"_parent\"><img src=\"https://colab.research.google.com/assets/colab-badge.svg\" alt=\"Open In Colab\"/></a>"
      ]
    },
    {
      "cell_type": "code",
      "execution_count": null,
      "metadata": {
        "id": "d6imdgYKvxtf"
      },
      "outputs": [],
      "source": [
        "!pip install transformers\n",
        "!pip install sentencepiece==0.1.95\n",
        "!git clone https://github.com/muchad/qaqg.git\n",
        "%cd qaqg/"
      ]
    },
    {
      "cell_type": "code",
      "source": [
        "from pipeline_qa import pipeline\n",
        "qa = pipeline()"
      ],
      "metadata": {
        "id": "y3wfFfFZw7Ft"
      },
      "execution_count": null,
      "outputs": []
    },
    {
      "cell_type": "code",
      "source": [
        "qa({\"context\":\"Raja Purnawarman mulai memerintah Kerajaan Tarumanegara pada tahun 395 M.\",\"question\":\"Siapa pemimpin Kerajaan Tarumanegara?\"})"
      ],
      "metadata": {
        "collapsed": true,
        "id": "WKCeGeGDxEax"
      },
      "execution_count": null,
      "outputs": []
    }
  ]
}
