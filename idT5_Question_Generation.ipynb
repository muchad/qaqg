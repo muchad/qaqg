{
  "nbformat": 4,
  "nbformat_minor": 0,
  "metadata": {
    "colab": {
      "provenance": [],
      "authorship_tag": "ABX9TyOfUNT1H5WPo/v/OromeVxw",
      "include_colab_link": true
    },
    "kernelspec": {
      "name": "python3",
      "display_name": "Python 3"
    },
    "language_info": {
      "name": "python"
    }
  },
  "cells": [
    {
      "cell_type": "markdown",
      "metadata": {
        "id": "view-in-github",
        "colab_type": "text"
      },
      "source": [
        "<a href=\"https://colab.research.google.com/github/muchad/qaqg/blob/main/idT5_Question_Generation.ipynb\" target=\"_parent\"><img src=\"https://colab.research.google.com/assets/colab-badge.svg\" alt=\"Open In Colab\"/></a>"
      ]
    },
    {
      "cell_type": "code",
      "execution_count": null,
      "metadata": {
        "collapsed": true,
        "id": "H26BCzEEL_uI"
      },
      "outputs": [],
      "source": [
        "!pip install transformers\n",
        "!pip install sentencepiece==0.1.95\n",
        "!git clone https://github.com/muchad/qaqg.git\n",
        "%cd qaqg/   "
      ]
    },
    {
      "cell_type": "code",
      "source": [
        "from pipeline_qg import pipeline\n",
        "qg = pipeline()"
      ],
      "metadata": {
        "collapsed": true,
        "id": "Mj5wX4Z0MOGI"
      },
      "execution_count": null,
      "outputs": []
    },
    {
      "cell_type": "code",
      "source": [
        "qg(\"Raja Purnawarman mulai memerintah Kerajaan Tarumanegara pada tahun 395 M.\")"
      ],
      "metadata": {
        "collapsed": true,
        "id": "txtywNopMUHW"
      },
      "execution_count": null,
      "outputs": []
    }
  ]
}